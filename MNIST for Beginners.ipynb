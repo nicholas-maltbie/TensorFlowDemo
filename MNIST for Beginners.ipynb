{
 "cells": [
  {
   "cell_type": "code",
   "execution_count": 1,
   "metadata": {
    "collapsed": true
   },
   "outputs": [],
   "source": [
    "#Code is from 'MNIST For ML Beginners' by the Tensorflow Authors\n",
    "\n",
    "# Import modules necessary for MNIST Experiment\n",
    "import tensorflow as tf"
   ]
  },
  {
   "cell_type": "code",
   "execution_count": 2,
   "metadata": {
    "collapsed": false
   },
   "outputs": [
    {
     "name": "stdout",
     "output_type": "stream",
     "text": [
      "Extracting MNIST_data/train-images-idx3-ubyte.gz\n",
      "Extracting MNIST_data/train-labels-idx1-ubyte.gz\n",
      "Extracting MNIST_data/t10k-images-idx3-ubyte.gz\n",
      "Extracting MNIST_data/t10k-labels-idx1-ubyte.gz\n"
     ]
    }
   ],
   "source": [
    "#Setup MNIST data (This command may be rather slow)\n",
    "\n",
    "#Import example\n",
    "from tensorflow.examples.tutorials.mnist import input_data\n",
    "#Setup data\n",
    "mnist = input_data.read_data_sets(\"MNIST_data/\", one_hot=True)"
   ]
  },
  {
   "cell_type": "code",
   "execution_count": 3,
   "metadata": {
    "collapsed": true
   },
   "outputs": [],
   "source": [
    "#Setup graph for neural network (Very simple grpah in this case)\n",
    "\n",
    "# Create the model\n",
    "x = tf.placeholder(tf.float32, [None, 784]) #Input values (N images by 784 pixels per image)\n",
    "W = tf.Variable(tf.zeros([784, 10]))        #Weight values for input (784 pixels by 10 possible digits)\n",
    "b = tf.Variable(tf.zeros([10]))             #Bias values for each digit\n",
    "y = tf.nn.softmax(tf.matmul(x, W) + b)      #Output vector, Softmax(Wx + b)"
   ]
  },
  {
   "cell_type": "code",
   "execution_count": 4,
   "metadata": {
    "collapsed": true
   },
   "outputs": [],
   "source": [
    "#Use the graph and cross entropy to create a training setp\n",
    "\n",
    "# Define loss placeholder\n",
    "y_ = tf.placeholder(tf.float32, [None, 10]) #How far is result from actual\n",
    "# Create cross_entropy function based on loss and actual\n",
    "cross_entropy = tf.reduce_mean(-tf.reduce_sum(y_ * tf.log(y), reduction_indices=[1]))\n",
    "\n",
    "# Instruct TensorFlow to attempt to minimize the cross_entropy using the Gradient Descent \n",
    "# Optimizer with a learning value of 0.5\n",
    "train_step = tf.train.GradientDescentOptimizer(0.5).minimize(cross_entropy)"
   ]
  },
  {
   "cell_type": "code",
   "execution_count": 6,
   "metadata": {
    "collapsed": false
   },
   "outputs": [],
   "source": [
    "#Initialize variables and run the session.\n",
    "\n",
    "# Initialize and save variables\n",
    "init = tf.global_variables_initializer()\n",
    "sess = tf.Session()     #Start new Session\n",
    "sess.run(init)          #Initialize variables\n",
    "\n",
    "#Number of steps to run\n",
    "num_steps = 1000\n",
    "\n",
    "# Run training steps Num Steps times\n",
    "for n in range(num_steps):\n",
    "    #Get a batch of 100 images\n",
    "    #Batch_x are the input images as a flattened 784 pixel vector\n",
    "    #Batch_y is a vector of what number the image represents\n",
    "    batch_x, batch_y = mnist.train.next_batch(100)\n",
    "    \n",
    "    #Run the session with the given data (Do one training step)\n",
    "    sess.run(train_step, feed_dict={x: batch_x, y_: batch_y})"
   ]
  },
  {
   "cell_type": "code",
   "execution_count": 11,
   "metadata": {
    "collapsed": false
   },
   "outputs": [
    {
     "name": "stdout",
     "output_type": "stream",
     "text": [
      "Accuray of prediction is 91.0%\n"
     ]
    }
   ],
   "source": [
    "#Evaluate the model\n",
    "\n",
    "# Define way to check session and run the function with test data\n",
    "correct_prediction = tf.equal(tf.argmax(y, 1), tf.argmax(y_, 1))    #Define function to calculate accuracy\n",
    "accuracy = tf.reduce_mean(tf.cast(correct_prediction, tf.float32))  #Define function to display result\n",
    "print(\"Accuray of prediction is \" + \n",
    "      str(int(10000 * sess.run(accuracy, feed_dict={x: mnist.test.images, y_: mnist.test.labels}))/100) + \"%\");"
   ]
  }
 ],
 "metadata": {
  "kernelspec": {
   "display_name": "py35tensorflow",
   "language": "python",
   "name": "py35tensorflow"
  },
  "language_info": {
   "codemirror_mode": {
    "name": "ipython",
    "version": 3
   },
   "file_extension": ".py",
   "mimetype": "text/x-python",
   "name": "python",
   "nbconvert_exporter": "python",
   "pygments_lexer": "ipython3",
   "version": "3.5.3"
  }
 },
 "nbformat": 4,
 "nbformat_minor": 2
}
